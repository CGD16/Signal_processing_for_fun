{
 "cells": [
  {
   "cell_type": "code",
   "execution_count": 1,
   "id": "aff5c8d3-2918-4830-8e1b-bb1f9a162dcb",
   "metadata": {},
   "outputs": [],
   "source": [
    "gedicht = \"\"\"\n",
    "Wer reitet so spät durch Nacht und Wind?\n",
    "Es ist der Vater mit seinem Kind;\n",
    "Er hat den Knaben wohl in dem Arm,\n",
    "Er fasst ihn sicher, er hält ihn warm.\n",
    "\n",
    "Mein Sohn, was birgst du so bang dein Gesicht? –\n",
    "Siehst, Vater, du den Erlkönig nicht?\n",
    "Den Erlenkönig mit Kron’ und Schweif? –\n",
    "Mein Sohn, es ist ein Nebelstreif. –\n",
    "\n",
    "„Du liebes Kind, komm, geh mit mir!\n",
    "Gar schöne Spiele spiel’ ich mit dir;\n",
    "Manch’ bunte Blumen sind an dem Strand,\n",
    "Meine Mutter hat manch gülden Gewand.“ –\n",
    "\n",
    "Mein Vater, mein Vater, und hörest du nicht,\n",
    "Was Erlenkönig mir leise verspricht? –\n",
    "Sei ruhig, bleibe ruhig, mein Kind;\n",
    "In dürren Blättern säuselt der Wind. –\n",
    "\n",
    "„Willst, feiner Knabe, du mit mir gehn?\n",
    "Meine Töchter sollen dich warten schön;\n",
    "Meine Töchter führen den nächtlichen Reihn\n",
    "Und wiegen und tanzen und singen dich ein.“ –\n",
    "\n",
    "Mein Vater, mein Vater, und siehst du nicht dort\n",
    "Erlkönigs Töchter am düstern Ort? –\n",
    "Mein Sohn, mein Sohn, ich seh’ es genau:\n",
    "Es scheinen die alten Weiden so grau. –\n",
    "\n",
    "„Ich liebe dich, mich reizt deine schöne Gestalt;\n",
    "Und bist du nicht willig, so brauch’ ich Gewalt.“ –\n",
    "Mein Vater, mein Vater, jetzt fasst er mich an!\n",
    "Erlkönig hat mir ein Leids getan! –\n",
    "\n",
    "Dem Vater grauset’s; er reitet geschwind,\n",
    "Er hält in den Armen das ächzende Kind,\n",
    "Erreicht den Hof mit Mühe und Not;\n",
    "In seinen Armen das Kind war tot\n",
    "\"\"\""
   ]
  },
  {
   "cell_type": "code",
   "execution_count": 2,
   "id": "b8df8f39-bb46-40af-bf62-670db3d0d82c",
   "metadata": {},
   "outputs": [
    {
     "name": "stderr",
     "output_type": "stream",
     "text": [
      "/home/changgeng/anaconda3/envs/torchi/lib/python3.12/site-packages/tqdm/auto.py:21: TqdmWarning: IProgress not found. Please update jupyter and ipywidgets. See https://ipywidgets.readthedocs.io/en/stable/user_install.html\n",
      "  from .autonotebook import tqdm as notebook_tqdm\n"
     ]
    }
   ],
   "source": [
    "from transformers import pipeline\n",
    "import numpy as np\n",
    "import scipy\n",
    "from IPython.display import Audio\n",
    "from transformers import AutoTokenizer, AutoModelForTextToWaveform, AutoProcessor, AutoModel\n",
    "import warnings\n",
    "warnings.filterwarnings('ignore')\n",
    "import torch\n",
    "import scipy"
   ]
  },
  {
   "cell_type": "code",
   "execution_count": null,
   "id": "e9e634c1-14b4-4b99-b581-1a9a9eb5bccf",
   "metadata": {},
   "outputs": [],
   "source": [
    "params = {\n",
    "    \"max_length\": 256,\n",
    "    \"min_length\": 8,\n",
    "    \"no_repeat_ngram_size\": 3,\n",
    "    \"early_stopping\": True,\n",
    "    \"repetition_penalty\": 3.5,\n",
    "    \"length_penalty\": 0.3,\n",
    "    \"encoder_no_repeat_ngram_size\": 3,\n",
    "    \"num_beams\": 4,\n",
    "}"
   ]
  },
  {
   "cell_type": "code",
   "execution_count": 3,
   "id": "c22b92c9-b0bd-4f15-a4cd-7bb948f7706d",
   "metadata": {},
   "outputs": [],
   "source": [
    "processor = AutoProcessor.from_pretrained(\"suno/bark-small\")\n",
    "model = AutoModel.from_pretrained(\"suno/bark-small\")\n",
    "# model"
   ]
  },
  {
   "cell_type": "code",
   "execution_count": 4,
   "id": "21a36cdc-ebfd-499c-98e9-f79637e58fd8",
   "metadata": {},
   "outputs": [
    {
     "name": "stdout",
     "output_type": "stream",
     "text": [
      "CUDA is available. Using GPU.\n"
     ]
    }
   ],
   "source": [
    "if torch.cuda.is_available():\n",
    "    device = torch.device(\"cuda\")\n",
    "    print(\"CUDA is available. Using GPU.\")\n",
    "else:\n",
    "    device = torch.device(\"cpu\")\n",
    "    print(\"CUDA is not available. Using CPU.\")"
   ]
  },
  {
   "cell_type": "code",
   "execution_count": 5,
   "id": "9aaae43a-89ea-4f95-bcc3-55604d28baa7",
   "metadata": {},
   "outputs": [
    {
     "data": {
      "text/plain": [
       "['Wer reitet so spät durch Nacht und Wind?',\n",
       " 'Es ist der Vater mit seinem Kind;',\n",
       " 'Er hat den Knaben wohl in dem Arm,',\n",
       " 'Er fasst ihn sicher, er hält ihn warm.']"
      ]
     },
     "execution_count": 5,
     "metadata": {},
     "output_type": "execute_result"
    }
   ],
   "source": [
    "list(gedicht.split('\\n'))[1:5]"
   ]
  },
  {
   "cell_type": "code",
   "execution_count": 6,
   "id": "01aabd89-f502-4a77-9a8a-26b56de9a493",
   "metadata": {},
   "outputs": [],
   "source": [
    "gedicht = list(gedicht.split('\\n'))[1:5]"
   ]
  },
  {
   "cell_type": "code",
   "execution_count": 7,
   "id": "6ac37c1f-5d31-42b7-8822-8cf9b7a1cd36",
   "metadata": {},
   "outputs": [
    {
     "name": "stderr",
     "output_type": "stream",
     "text": [
      "The attention mask and the pad token id were not set. As a consequence, you may observe unexpected behavior. Please pass your input's `attention_mask` to obtain reliable results.\n",
      "Setting `pad_token_id` to `eos_token_id`:10000 for open-end generation.\n",
      "The attention mask and the pad token id were not set. As a consequence, you may observe unexpected behavior. Please pass your input's `attention_mask` to obtain reliable results.\n",
      "Setting `pad_token_id` to `eos_token_id`:10000 for open-end generation.\n",
      "The attention mask and the pad token id were not set. As a consequence, you may observe unexpected behavior. Please pass your input's `attention_mask` to obtain reliable results.\n",
      "Setting `pad_token_id` to `eos_token_id`:10000 for open-end generation.\n",
      "The attention mask and the pad token id were not set. As a consequence, you may observe unexpected behavior. Please pass your input's `attention_mask` to obtain reliable results.\n",
      "Setting `pad_token_id` to `eos_token_id`:10000 for open-end generation.\n"
     ]
    }
   ],
   "source": [
    "for i in gedicht:\n",
    "    inputs = processor(\n",
    "        text=[\"MAN: [laughs]\" + i],\n",
    "        return_tensors=\"pt\"\n",
    "    )\n",
    "    speech_values = model.generate(**inputs, do_sample=True).to(device)\n",
    "    "
   ]
  },
  {
   "cell_type": "code",
   "execution_count": 8,
   "id": "0fc7390d-e0b8-44e3-b76c-f96b05d905c4",
   "metadata": {},
   "outputs": [
    {
     "ename": "AttributeError",
     "evalue": "'BarkProcessor' object has no attribute 'eos_token_id'",
     "output_type": "error",
     "traceback": [
      "\u001b[0;31m---------------------------------------------------------------------------\u001b[0m",
      "\u001b[0;31mAttributeError\u001b[0m                            Traceback (most recent call last)",
      "Cell \u001b[0;32mIn[8], line 1\u001b[0m\n\u001b[0;32m----> 1\u001b[0m model\u001b[38;5;241m.\u001b[39mgenerate(\u001b[38;5;241m*\u001b[39m\u001b[38;5;241m*\u001b[39minputs, pad_token_id\u001b[38;5;241m=\u001b[39m\u001b[43mprocessor\u001b[49m\u001b[38;5;241;43m.\u001b[39;49m\u001b[43meos_token_id\u001b[49m)\n",
      "\u001b[0;31mAttributeError\u001b[0m: 'BarkProcessor' object has no attribute 'eos_token_id'"
     ]
    }
   ],
   "source": [
    "model.generate(**inputs, pad_token_id=processor.eos_token_id)"
   ]
  },
  {
   "cell_type": "code",
   "execution_count": null,
   "id": "ed63559e-de16-41f7-9a31-6ea8d2f0b132",
   "metadata": {},
   "outputs": [],
   "source": [
    "print(speech_values.dtype)\n",
    "speech_values.cpu().numpy()"
   ]
  },
  {
   "cell_type": "code",
   "execution_count": null,
   "id": "95bbbefa-9382-4f41-a42c-ea8297b4ee79",
   "metadata": {},
   "outputs": [],
   "source": []
  },
  {
   "cell_type": "code",
   "execution_count": null,
   "id": "b32be7b3-4c55-40e5-94b5-7631cfb6453d",
   "metadata": {},
   "outputs": [],
   "source": [
    "pppath = \"gedicht.wav\"\n",
    "scipy.io.wavfile.write(pppath, rate=24000, data=speech_values.cpu().numpy().T)\n",
    "display(Audio(pppath, autoplay=True))"
   ]
  },
  {
   "cell_type": "code",
   "execution_count": null,
   "id": "ca8b556b-8578-4df9-802e-6609dc0aab68",
   "metadata": {},
   "outputs": [],
   "source": []
  },
  {
   "cell_type": "code",
   "execution_count": null,
   "id": "e1332e6e-623b-4eaf-968e-b4fe763a9705",
   "metadata": {},
   "outputs": [],
   "source": []
  },
  {
   "cell_type": "code",
   "execution_count": null,
   "id": "659a4850-9540-44a7-92fd-c29aa8676547",
   "metadata": {},
   "outputs": [],
   "source": []
  },
  {
   "cell_type": "code",
   "execution_count": null,
   "id": "d2410213-5ee2-43d4-9b3f-45694db6c977",
   "metadata": {},
   "outputs": [],
   "source": []
  },
  {
   "cell_type": "code",
   "execution_count": null,
   "id": "4dea1a0d-8574-460c-8839-694803ada89e",
   "metadata": {},
   "outputs": [],
   "source": []
  },
  {
   "cell_type": "code",
   "execution_count": null,
   "id": "6cb50291-ba88-47c9-a044-2155bd7b80c5",
   "metadata": {},
   "outputs": [],
   "source": []
  },
  {
   "cell_type": "code",
   "execution_count": null,
   "id": "637c3899-8be3-447b-8ee7-8a46c9e6219c",
   "metadata": {},
   "outputs": [],
   "source": []
  },
  {
   "cell_type": "code",
   "execution_count": null,
   "id": "281b9cbf-a04f-4728-8d51-05ccb5adb994",
   "metadata": {},
   "outputs": [],
   "source": []
  },
  {
   "cell_type": "code",
   "execution_count": null,
   "id": "8403395a-7b37-4691-94f1-bf7fc9dc440c",
   "metadata": {},
   "outputs": [],
   "source": [
    "synthesiser = pipeline(\"text-to-speech\", \"suno/bark-small\")\n",
    "audio_list = []\n",
    "for satz in gedicht:\n",
    "    speech = synthesiser(satz, forward_params={\"do_sample\": True})"
   ]
  },
  {
   "cell_type": "code",
   "execution_count": null,
   "id": "5e6d0726-9a0a-42d7-b36c-4becc30ad5f4",
   "metadata": {},
   "outputs": [],
   "source": [
    "'''\n",
    "synthesiser = pipeline(\"text-to-speech\", \"suno/bark-small\")\n",
    "speech = synthesiser(gedicht, forward_params={\"do_sample\": True})\n",
    "'''"
   ]
  },
  {
   "cell_type": "code",
   "execution_count": null,
   "id": "69a75da5-c9ad-44bc-8d4a-ee50fab83b9e",
   "metadata": {},
   "outputs": [],
   "source": [
    "speech"
   ]
  },
  {
   "cell_type": "code",
   "execution_count": null,
   "id": "6bf02f0a-4783-4e44-a191-65dbe5b6e84c",
   "metadata": {},
   "outputs": [],
   "source": [
    "ppath = \"bark_out.wav\"\n",
    "scipy.io.wavfile.write(ppath, rate=speech[\"sampling_rate\"], data=speech[\"audio\"].T)\n",
    "display(Audio(ppath, autoplay=True))"
   ]
  },
  {
   "cell_type": "code",
   "execution_count": null,
   "id": "034e8ce9-8975-41bf-8928-af3aed4fc9d1",
   "metadata": {},
   "outputs": [],
   "source": []
  }
 ],
 "metadata": {
  "kernelspec": {
   "display_name": "Python 3 (ipykernel)",
   "language": "python",
   "name": "python3"
  },
  "language_info": {
   "codemirror_mode": {
    "name": "ipython",
    "version": 3
   },
   "file_extension": ".py",
   "mimetype": "text/x-python",
   "name": "python",
   "nbconvert_exporter": "python",
   "pygments_lexer": "ipython3",
   "version": "3.12.0"
  }
 },
 "nbformat": 4,
 "nbformat_minor": 5
}
