{
 "cells": [
  {
   "cell_type": "code",
   "execution_count": 1,
   "id": "9163b6bd-aef2-4c26-bbf5-8fbe8d81ade6",
   "metadata": {},
   "outputs": [],
   "source": [
    "%%capture\n",
    "# !pip install -U flash-attn --no-build-isolation\n",
    "!pip install transformers accelerate optimum\n",
    "!pip install nltk\n",
    "!pip install git+https://github.com/coqui-ai/TTS\n",
    "print(\"Done\")"
   ]
  },
  {
   "cell_type": "code",
   "execution_count": 2,
   "id": "e858f62e-04d3-4a71-bcf9-d71ea650a467",
   "metadata": {},
   "outputs": [
    {
     "name": "stderr",
     "output_type": "stream",
     "text": [
      "/home/changgeng/anaconda3/envs/py311/lib/python3.11/site-packages/tqdm/auto.py:21: TqdmWarning: IProgress not found. Please update jupyter and ipywidgets. See https://ipywidgets.readthedocs.io/en/stable/user_install.html\n",
      "  from .autonotebook import tqdm as notebook_tqdm\n",
      "2024-04-08 23:31:51.417510: I tensorflow/core/util/port.cc:113] oneDNN custom operations are on. You may see slightly different numerical results due to floating-point round-off errors from different computation orders. To turn them off, set the environment variable `TF_ENABLE_ONEDNN_OPTS=0`.\n",
      "2024-04-08 23:31:51.435245: E external/local_xla/xla/stream_executor/cuda/cuda_dnn.cc:9261] Unable to register cuDNN factory: Attempting to register factory for plugin cuDNN when one has already been registered\n",
      "2024-04-08 23:31:51.435268: E external/local_xla/xla/stream_executor/cuda/cuda_fft.cc:607] Unable to register cuFFT factory: Attempting to register factory for plugin cuFFT when one has already been registered\n",
      "2024-04-08 23:31:51.435781: E external/local_xla/xla/stream_executor/cuda/cuda_blas.cc:1515] Unable to register cuBLAS factory: Attempting to register factory for plugin cuBLAS when one has already been registered\n",
      "2024-04-08 23:31:51.438973: I tensorflow/core/platform/cpu_feature_guard.cc:182] This TensorFlow binary is optimized to use available CPU instructions in performance-critical operations.\n",
      "To enable the following instructions: AVX2 AVX512F AVX512_VNNI AVX512_BF16 FMA, in other operations, rebuild TensorFlow with the appropriate compiler flags.\n",
      "2024-04-08 23:31:51.875020: W tensorflow/compiler/tf2tensorrt/utils/py_utils.cc:38] TF-TRT Warning: Could not find TensorRT\n",
      "[nltk_data] Downloading package wordnet to\n",
      "[nltk_data]     /home/changgeng/nltk_data...\n",
      "[nltk_data]   Package wordnet is already up-to-date!\n",
      "[nltk_data] Downloading package stopwords to\n",
      "[nltk_data]     /home/changgeng/nltk_data...\n",
      "[nltk_data]   Package stopwords is already up-to-date!\n",
      "[nltk_data] Downloading package punkt to /home/changgeng/nltk_data...\n",
      "[nltk_data]   Package punkt is already up-to-date!\n",
      "[nltk_data] Downloading package averaged_perceptron_tagger to\n",
      "[nltk_data]     /home/changgeng/nltk_data...\n",
      "[nltk_data]   Package averaged_perceptron_tagger is already up-to-\n",
      "[nltk_data]       date!\n"
     ]
    }
   ],
   "source": [
    "from transformers import AutoProcessor, BarkModel, AutoTokenizer\n",
    "import optimum\n",
    "import os\n",
    "from os import listdir\n",
    "from os.path import isfile, join\n",
    "# import shlex\n",
    "from optimum.bettertransformer import BetterTransformer\n",
    "import torch\n",
    "import scipy\n",
    "from scipy.io.wavfile import write as write_wav\n",
    "from IPython.display import Audio\n",
    "import numpy as np\n",
    "import wave\n",
    "import nltk\n",
    "from nltk.tokenize import word_tokenize\n",
    "from nltk.stem.porter import *\n",
    "from nltk.stem import SnowballStemmer, PorterStemmer, WordNetLemmatizer\n",
    "nltk.download(\"wordnet\")\n",
    "nltk.download(\"stopwords\")\n",
    "nltk.download(\"punkt\")\n",
    "nltk.download(\"averaged_perceptron_tagger\")\n",
    "from nltk.corpus import wordnet, stopwords\n",
    "from nltk.stem.snowball import GermanStemmer"
   ]
  },
  {
   "cell_type": "code",
   "execution_count": 3,
   "id": "b67904b2-21a1-4a2b-8c7b-e8753c490f7e",
   "metadata": {},
   "outputs": [],
   "source": [
    "os.environ[\"SUNO_OFFLOAD_CPU\"] = \"TRUE\"\n",
    "os.environ[\"SUNO_USE_SMALL_MODELS\"] = \"TRUE\""
   ]
  },
  {
   "cell_type": "code",
   "execution_count": 4,
   "id": "8a041d4c-1a68-452f-8b1c-721d0921c850",
   "metadata": {},
   "outputs": [],
   "source": [
    "# commandline_args = os.environ.get('COMMANDLINE_ARGS', \"--skip-torch-cuda-test --no-half\")\n",
    "# shlex.split(commandline_args)"
   ]
  },
  {
   "cell_type": "code",
   "execution_count": 5,
   "id": "7d009269-9708-4d28-bbd6-22037d7790a3",
   "metadata": {},
   "outputs": [
    {
     "name": "stderr",
     "output_type": "stream",
     "text": [
      "/home/changgeng/anaconda3/envs/py311/lib/python3.11/site-packages/torch/nn/utils/weight_norm.py:28: UserWarning: torch.nn.utils.weight_norm is deprecated in favor of torch.nn.utils.parametrizations.weight_norm.\n",
      "  warnings.warn(\"torch.nn.utils.weight_norm is deprecated in favor of torch.nn.utils.parametrizations.weight_norm.\")\n"
     ]
    }
   ],
   "source": [
    "device = \"cuda\" if torch.cuda.is_available() else \"cpu\"\n",
    "model_id = \"suno/bark-small\"\n",
    "model = BarkModel.from_pretrained(model_id, torch_dtype=torch.float32).to(device)\n",
    "# model = BarkModel.from_pretrained(\"suno/bark-small\", torch_dtype=torch.float16, attn_implementation=\"flash_attention_2\").to(device)\n",
    "# model =  BetterTransformer.transform(model)"
   ]
  },
  {
   "cell_type": "code",
   "execution_count": 6,
   "id": "ed2c9459-21e9-4642-a507-768942591f62",
   "metadata": {},
   "outputs": [],
   "source": [
    "processor = AutoProcessor.from_pretrained(\"suno/bark\")\n",
    "# tokenizer = AutoTokenizer.from_pretrained(model_id)\n",
    "model = BarkModel.from_pretrained(model_id)\n",
    "voice_preset = \"v2/de_speaker_2\"\n",
    "sample_rate = model.generation_config.sample_rate"
   ]
  },
  {
   "cell_type": "code",
   "execution_count": 7,
   "id": "eaedd161-49a6-42d9-bc98-9ed78150f016",
   "metadata": {},
   "outputs": [],
   "source": [
    "poem = \"\"\"Wer reitet so spät durch Nacht und Wind?\n",
    "Es ist der Vater mit seinem Kind;\n",
    "er hat den Knaben wohl in dem Arm,\n",
    "er fasst ihn sicher, er hält ihn warm.\n",
    "\n",
    "Mein Sohn, was birgst du so bang dein Gesicht? –\n",
    "Siehst Vater, du den Erlkönig nicht?\n",
    "Den Erlenkönig mit Kron' und Schweif? –\n",
    "Mein Sohn, es ist ein Nebelstreif.\n",
    "\n",
    "„Du liebes Kind, komm, geh mit mir!\n",
    "Gar schöne Spiele spiel' ich mit dir;\n",
    "manch bunte Blumen sind an dem Strand,\n",
    "meine Mutter hat manch gülden Gewand.“\n",
    "\n",
    "Mein Vater, mein Vater, und hörest du nicht,\n",
    "was Erlenkönig mir leise verspricht? –\n",
    "Sei ruhig, bleibe ruhig, mein Kind:\n",
    "In dürren Blättern säuselt der Wind.\n",
    "\n",
    "„Willst, feiner Knabe, du mit mir gehn?\n",
    "Meine Töchter sollen dich warten schön;\n",
    "meine Töchter führen den nächtlichen Reihn,\n",
    "und wiegen und tanzen und singen dich ein.“\n",
    "\n",
    "Mein Vater, mein Vater und siehst du nicht dort\n",
    "Erlkönigs Töchter am düstern Ort? –\n",
    "Mein Sohn, mein Sohn, ich seh' es genau:\n",
    "Es scheinen die alten Weiden so grau.\n",
    "\n",
    "„Ich liebe dich, mich reizt deine schöne Gestalt;\n",
    "und bist du nicht willig, so brauch ich Gewalt.“\n",
    "Mein Vater, mein Vater, jetzt fasst er mich an!\n",
    "Erlkönig hat mir ein Leids getan! –\n",
    "\n",
    "Dem Vater grauset's, er reitet geschwind,\n",
    "er hält in Armen das ächzende Kind,\n",
    "erreicht den Hof mit Mühe und Not;\n",
    "in seinen Armen das Kind war tot.\n",
    "\"\"\".split(\"\\n\")\n",
    "poetry = poem\n",
    "poem = [i for i in poem if len(i) > 1]"
   ]
  },
  {
   "cell_type": "code",
   "execution_count": 19,
   "id": "15477ea4-a4bf-4e0e-bf37-ae3d1aea5eb5",
   "metadata": {},
   "outputs": [
    {
     "name": "stderr",
     "output_type": "stream",
     "text": [
      "The attention mask and the pad token id were not set. As a consequence, you may observe unexpected behavior. Please pass your input's `attention_mask` to obtain reliable results.\n",
      "Setting `pad_token_id` to `eos_token_id`:10000 for open-end generation.\n"
     ]
    },
    {
     "ename": "TypeError",
     "evalue": "expected Tensor as element 0 in argument 0, but got numpy.ndarray",
     "output_type": "error",
     "traceback": [
      "\u001b[0;31m---------------------------------------------------------------------------\u001b[0m",
      "\u001b[0;31mTypeError\u001b[0m                                 Traceback (most recent call last)",
      "Cell \u001b[0;32mIn[19], line 13\u001b[0m\n\u001b[1;32m     10\u001b[0m     version_3_path \u001b[38;5;241m=\u001b[39m \u001b[38;5;124mf\u001b[39m\u001b[38;5;124m\"\u001b[39m\u001b[38;5;124m./Audio-Ordner/Version_03_\u001b[39m\u001b[38;5;132;01m{\u001b[39;00midx\u001b[38;5;132;01m}\u001b[39;00m\u001b[38;5;124m.wav\u001b[39m\u001b[38;5;124m\"\u001b[39m\n\u001b[1;32m     12\u001b[0m audios_list\u001b[38;5;241m.\u001b[39mappend(audio_array)\n\u001b[0;32m---> 13\u001b[0m audios \u001b[38;5;241m=\u001b[39m \u001b[43mtorch\u001b[49m\u001b[38;5;241;43m.\u001b[39;49m\u001b[43mcat\u001b[49m\u001b[43m(\u001b[49m\u001b[43maudios_list\u001b[49m\u001b[43m,\u001b[49m\u001b[43mdim\u001b[49m\u001b[38;5;241;43m=\u001b[39;49m\u001b[38;5;241;43m1\u001b[39;49m\u001b[43m)\u001b[49m\n\u001b[1;32m     15\u001b[0m write_wav(version_3_path, sample_rate, audio_array)\n\u001b[1;32m     16\u001b[0m display(Audio(version_3_path, autoplay\u001b[38;5;241m=\u001b[39m\u001b[38;5;28;01mFalse\u001b[39;00m))\n",
      "\u001b[0;31mTypeError\u001b[0m: expected Tensor as element 0 in argument 0, but got numpy.ndarray"
     ]
    }
   ],
   "source": [
    "audios_list = []\n",
    "for idx, phrases in enumerate(poem):\n",
    "    inputs = processor(phrases, voice_preset=voice_preset)\n",
    "    audio_array = model.generate(**inputs, do_sample=True).to(device) \n",
    "    audio_array = audio_array.cpu().numpy().squeeze()\n",
    "\n",
    "    if idx < 10:\n",
    "        version_3_path = f\"./Audio-Ordner/Version_03_0{idx}.wav\"\n",
    "    else:\n",
    "        version_3_path = f\"./Audio-Ordner/Version_03_{idx}.wav\"\n",
    "    \n",
    "    write_wav(version_3_path, sample_rate, audio_array)\n",
    "    display(Audio(version_3_path, autoplay=False))\n",
    "    if idx == 5:\n",
    "        break"
   ]
  },
  {
   "cell_type": "code",
   "execution_count": 24,
   "id": "8c134127-592b-4924-a497-5bf3bb6ccf53",
   "metadata": {},
   "outputs": [
    {
     "name": "stderr",
     "output_type": "stream",
     "text": [
      "huggingface/tokenizers: The current process just got forked, after parallelism has already been used. Disabling parallelism to avoid deadlocks...\n",
      "To disable this warning, you can either:\n",
      "\t- Avoid using `tokenizers` before the fork if possible\n",
      "\t- Explicitly set the environment variable TOKENIZERS_PARALLELISM=(true | false)\n"
     ]
    },
    {
     "name": "stdout",
     "output_type": "stream",
     "text": [
      "Collecting pydub\n",
      "  Downloading pydub-0.25.1-py2.py3-none-any.whl.metadata (1.4 kB)\n",
      "Downloading pydub-0.25.1-py2.py3-none-any.whl (32 kB)\n",
      "Installing collected packages: pydub\n",
      "Successfully installed pydub-0.25.1\n"
     ]
    }
   ],
   "source": [
    "!pip install pydub"
   ]
  },
  {
   "cell_type": "code",
   "execution_count": 25,
   "id": "ad72a98a-afe3-4719-ad05-53858f4be2e1",
   "metadata": {},
   "outputs": [
    {
     "name": "stderr",
     "output_type": "stream",
     "text": [
      "/home/changgeng/anaconda3/envs/py311/lib/python3.11/site-packages/pydub/utils.py:170: RuntimeWarning: Couldn't find ffmpeg or avconv - defaulting to ffmpeg, but may not work\n",
      "  warn(\"Couldn't find ffmpeg or avconv - defaulting to ffmpeg, but may not work\", RuntimeWarning)\n",
      "/home/changgeng/anaconda3/envs/py311/lib/python3.11/site-packages/pydub/utils.py:198: RuntimeWarning: Couldn't find ffprobe or avprobe - defaulting to ffprobe, but may not work\n",
      "  warn(\"Couldn't find ffprobe or avprobe - defaulting to ffprobe, but may not work\", RuntimeWarning)\n"
     ]
    },
    {
     "ename": "FileNotFoundError",
     "evalue": "[Errno 2] No such file or directory: 'ffprobe'",
     "output_type": "error",
     "traceback": [
      "\u001b[0;31m---------------------------------------------------------------------------\u001b[0m",
      "\u001b[0;31mFileNotFoundError\u001b[0m                         Traceback (most recent call last)",
      "Cell \u001b[0;32mIn[25], line 15\u001b[0m\n\u001b[1;32m     13\u001b[0m combined \u001b[38;5;241m=\u001b[39m \u001b[38;5;28;01mNone\u001b[39;00m\n\u001b[1;32m     14\u001b[0m \u001b[38;5;28;01mfor\u001b[39;00m input_file \u001b[38;5;129;01min\u001b[39;00m input_files:\n\u001b[0;32m---> 15\u001b[0m     sound \u001b[38;5;241m=\u001b[39m \u001b[43mAudioSegment\u001b[49m\u001b[38;5;241;43m.\u001b[39;49m\u001b[43mfrom_wav\u001b[49m\u001b[43m(\u001b[49m\u001b[43minput_file\u001b[49m\u001b[43m)\u001b[49m\n\u001b[1;32m     16\u001b[0m     \u001b[38;5;28;01mif\u001b[39;00m combined \u001b[38;5;129;01mis\u001b[39;00m \u001b[38;5;28;01mNone\u001b[39;00m:\n\u001b[1;32m     17\u001b[0m         combined \u001b[38;5;241m=\u001b[39m sound\n",
      "File \u001b[0;32m~/anaconda3/envs/py311/lib/python3.11/site-packages/pydub/audio_segment.py:808\u001b[0m, in \u001b[0;36mAudioSegment.from_wav\u001b[0;34m(cls, file, parameters)\u001b[0m\n\u001b[1;32m    806\u001b[0m \u001b[38;5;129m@classmethod\u001b[39m\n\u001b[1;32m    807\u001b[0m \u001b[38;5;28;01mdef\u001b[39;00m \u001b[38;5;21mfrom_wav\u001b[39m(\u001b[38;5;28mcls\u001b[39m, file, parameters\u001b[38;5;241m=\u001b[39m\u001b[38;5;28;01mNone\u001b[39;00m):\n\u001b[0;32m--> 808\u001b[0m     \u001b[38;5;28;01mreturn\u001b[39;00m \u001b[38;5;28;43mcls\u001b[39;49m\u001b[38;5;241;43m.\u001b[39;49m\u001b[43mfrom_file\u001b[49m\u001b[43m(\u001b[49m\u001b[43mfile\u001b[49m\u001b[43m,\u001b[49m\u001b[43m \u001b[49m\u001b[38;5;124;43m'\u001b[39;49m\u001b[38;5;124;43mwav\u001b[39;49m\u001b[38;5;124;43m'\u001b[39;49m\u001b[43m,\u001b[49m\u001b[43m \u001b[49m\u001b[43mparameters\u001b[49m\u001b[38;5;241;43m=\u001b[39;49m\u001b[43mparameters\u001b[49m\u001b[43m)\u001b[49m\n",
      "File \u001b[0;32m~/anaconda3/envs/py311/lib/python3.11/site-packages/pydub/audio_segment.py:728\u001b[0m, in \u001b[0;36mAudioSegment.from_file\u001b[0;34m(cls, file, format, codec, parameters, start_second, duration, **kwargs)\u001b[0m\n\u001b[1;32m    726\u001b[0m     info \u001b[38;5;241m=\u001b[39m \u001b[38;5;28;01mNone\u001b[39;00m\n\u001b[1;32m    727\u001b[0m \u001b[38;5;28;01melse\u001b[39;00m:\n\u001b[0;32m--> 728\u001b[0m     info \u001b[38;5;241m=\u001b[39m \u001b[43mmediainfo_json\u001b[49m\u001b[43m(\u001b[49m\u001b[43morig_file\u001b[49m\u001b[43m,\u001b[49m\u001b[43m \u001b[49m\u001b[43mread_ahead_limit\u001b[49m\u001b[38;5;241;43m=\u001b[39;49m\u001b[43mread_ahead_limit\u001b[49m\u001b[43m)\u001b[49m\n\u001b[1;32m    729\u001b[0m \u001b[38;5;28;01mif\u001b[39;00m info:\n\u001b[1;32m    730\u001b[0m     audio_streams \u001b[38;5;241m=\u001b[39m [x \u001b[38;5;28;01mfor\u001b[39;00m x \u001b[38;5;129;01min\u001b[39;00m info[\u001b[38;5;124m'\u001b[39m\u001b[38;5;124mstreams\u001b[39m\u001b[38;5;124m'\u001b[39m]\n\u001b[1;32m    731\u001b[0m                      \u001b[38;5;28;01mif\u001b[39;00m x[\u001b[38;5;124m'\u001b[39m\u001b[38;5;124mcodec_type\u001b[39m\u001b[38;5;124m'\u001b[39m] \u001b[38;5;241m==\u001b[39m \u001b[38;5;124m'\u001b[39m\u001b[38;5;124maudio\u001b[39m\u001b[38;5;124m'\u001b[39m]\n",
      "File \u001b[0;32m~/anaconda3/envs/py311/lib/python3.11/site-packages/pydub/utils.py:274\u001b[0m, in \u001b[0;36mmediainfo_json\u001b[0;34m(filepath, read_ahead_limit)\u001b[0m\n\u001b[1;32m    271\u001b[0m         file\u001b[38;5;241m.\u001b[39mclose()\n\u001b[1;32m    273\u001b[0m command \u001b[38;5;241m=\u001b[39m [prober, \u001b[38;5;124m'\u001b[39m\u001b[38;5;124m-of\u001b[39m\u001b[38;5;124m'\u001b[39m, \u001b[38;5;124m'\u001b[39m\u001b[38;5;124mjson\u001b[39m\u001b[38;5;124m'\u001b[39m] \u001b[38;5;241m+\u001b[39m command_args\n\u001b[0;32m--> 274\u001b[0m res \u001b[38;5;241m=\u001b[39m \u001b[43mPopen\u001b[49m\u001b[43m(\u001b[49m\u001b[43mcommand\u001b[49m\u001b[43m,\u001b[49m\u001b[43m \u001b[49m\u001b[43mstdin\u001b[49m\u001b[38;5;241;43m=\u001b[39;49m\u001b[43mstdin_parameter\u001b[49m\u001b[43m,\u001b[49m\u001b[43m \u001b[49m\u001b[43mstdout\u001b[49m\u001b[38;5;241;43m=\u001b[39;49m\u001b[43mPIPE\u001b[49m\u001b[43m,\u001b[49m\u001b[43m \u001b[49m\u001b[43mstderr\u001b[49m\u001b[38;5;241;43m=\u001b[39;49m\u001b[43mPIPE\u001b[49m\u001b[43m)\u001b[49m\n\u001b[1;32m    275\u001b[0m output, stderr \u001b[38;5;241m=\u001b[39m res\u001b[38;5;241m.\u001b[39mcommunicate(\u001b[38;5;28minput\u001b[39m\u001b[38;5;241m=\u001b[39mstdin_data)\n\u001b[1;32m    276\u001b[0m output \u001b[38;5;241m=\u001b[39m output\u001b[38;5;241m.\u001b[39mdecode(\u001b[38;5;124m\"\u001b[39m\u001b[38;5;124mutf-8\u001b[39m\u001b[38;5;124m\"\u001b[39m, \u001b[38;5;124m'\u001b[39m\u001b[38;5;124mignore\u001b[39m\u001b[38;5;124m'\u001b[39m)\n",
      "File \u001b[0;32m~/anaconda3/envs/py311/lib/python3.11/subprocess.py:1026\u001b[0m, in \u001b[0;36mPopen.__init__\u001b[0;34m(self, args, bufsize, executable, stdin, stdout, stderr, preexec_fn, close_fds, shell, cwd, env, universal_newlines, startupinfo, creationflags, restore_signals, start_new_session, pass_fds, user, group, extra_groups, encoding, errors, text, umask, pipesize, process_group)\u001b[0m\n\u001b[1;32m   1022\u001b[0m         \u001b[38;5;28;01mif\u001b[39;00m \u001b[38;5;28mself\u001b[39m\u001b[38;5;241m.\u001b[39mtext_mode:\n\u001b[1;32m   1023\u001b[0m             \u001b[38;5;28mself\u001b[39m\u001b[38;5;241m.\u001b[39mstderr \u001b[38;5;241m=\u001b[39m io\u001b[38;5;241m.\u001b[39mTextIOWrapper(\u001b[38;5;28mself\u001b[39m\u001b[38;5;241m.\u001b[39mstderr,\n\u001b[1;32m   1024\u001b[0m                     encoding\u001b[38;5;241m=\u001b[39mencoding, errors\u001b[38;5;241m=\u001b[39merrors)\n\u001b[0;32m-> 1026\u001b[0m     \u001b[38;5;28;43mself\u001b[39;49m\u001b[38;5;241;43m.\u001b[39;49m\u001b[43m_execute_child\u001b[49m\u001b[43m(\u001b[49m\u001b[43margs\u001b[49m\u001b[43m,\u001b[49m\u001b[43m \u001b[49m\u001b[43mexecutable\u001b[49m\u001b[43m,\u001b[49m\u001b[43m \u001b[49m\u001b[43mpreexec_fn\u001b[49m\u001b[43m,\u001b[49m\u001b[43m \u001b[49m\u001b[43mclose_fds\u001b[49m\u001b[43m,\u001b[49m\n\u001b[1;32m   1027\u001b[0m \u001b[43m                        \u001b[49m\u001b[43mpass_fds\u001b[49m\u001b[43m,\u001b[49m\u001b[43m \u001b[49m\u001b[43mcwd\u001b[49m\u001b[43m,\u001b[49m\u001b[43m \u001b[49m\u001b[43menv\u001b[49m\u001b[43m,\u001b[49m\n\u001b[1;32m   1028\u001b[0m \u001b[43m                        \u001b[49m\u001b[43mstartupinfo\u001b[49m\u001b[43m,\u001b[49m\u001b[43m \u001b[49m\u001b[43mcreationflags\u001b[49m\u001b[43m,\u001b[49m\u001b[43m \u001b[49m\u001b[43mshell\u001b[49m\u001b[43m,\u001b[49m\n\u001b[1;32m   1029\u001b[0m \u001b[43m                        \u001b[49m\u001b[43mp2cread\u001b[49m\u001b[43m,\u001b[49m\u001b[43m \u001b[49m\u001b[43mp2cwrite\u001b[49m\u001b[43m,\u001b[49m\n\u001b[1;32m   1030\u001b[0m \u001b[43m                        \u001b[49m\u001b[43mc2pread\u001b[49m\u001b[43m,\u001b[49m\u001b[43m \u001b[49m\u001b[43mc2pwrite\u001b[49m\u001b[43m,\u001b[49m\n\u001b[1;32m   1031\u001b[0m \u001b[43m                        \u001b[49m\u001b[43merrread\u001b[49m\u001b[43m,\u001b[49m\u001b[43m \u001b[49m\u001b[43merrwrite\u001b[49m\u001b[43m,\u001b[49m\n\u001b[1;32m   1032\u001b[0m \u001b[43m                        \u001b[49m\u001b[43mrestore_signals\u001b[49m\u001b[43m,\u001b[49m\n\u001b[1;32m   1033\u001b[0m \u001b[43m                        \u001b[49m\u001b[43mgid\u001b[49m\u001b[43m,\u001b[49m\u001b[43m \u001b[49m\u001b[43mgids\u001b[49m\u001b[43m,\u001b[49m\u001b[43m \u001b[49m\u001b[43muid\u001b[49m\u001b[43m,\u001b[49m\u001b[43m \u001b[49m\u001b[43mumask\u001b[49m\u001b[43m,\u001b[49m\n\u001b[1;32m   1034\u001b[0m \u001b[43m                        \u001b[49m\u001b[43mstart_new_session\u001b[49m\u001b[43m,\u001b[49m\u001b[43m \u001b[49m\u001b[43mprocess_group\u001b[49m\u001b[43m)\u001b[49m\n\u001b[1;32m   1035\u001b[0m \u001b[38;5;28;01mexcept\u001b[39;00m:\n\u001b[1;32m   1036\u001b[0m     \u001b[38;5;66;03m# Cleanup if the child failed starting.\u001b[39;00m\n\u001b[1;32m   1037\u001b[0m     \u001b[38;5;28;01mfor\u001b[39;00m f \u001b[38;5;129;01min\u001b[39;00m \u001b[38;5;28mfilter\u001b[39m(\u001b[38;5;28;01mNone\u001b[39;00m, (\u001b[38;5;28mself\u001b[39m\u001b[38;5;241m.\u001b[39mstdin, \u001b[38;5;28mself\u001b[39m\u001b[38;5;241m.\u001b[39mstdout, \u001b[38;5;28mself\u001b[39m\u001b[38;5;241m.\u001b[39mstderr)):\n",
      "File \u001b[0;32m~/anaconda3/envs/py311/lib/python3.11/subprocess.py:1953\u001b[0m, in \u001b[0;36mPopen._execute_child\u001b[0;34m(self, args, executable, preexec_fn, close_fds, pass_fds, cwd, env, startupinfo, creationflags, shell, p2cread, p2cwrite, c2pread, c2pwrite, errread, errwrite, restore_signals, gid, gids, uid, umask, start_new_session, process_group)\u001b[0m\n\u001b[1;32m   1951\u001b[0m     err_msg \u001b[38;5;241m=\u001b[39m os\u001b[38;5;241m.\u001b[39mstrerror(errno_num)\n\u001b[1;32m   1952\u001b[0m \u001b[38;5;28;01mif\u001b[39;00m err_filename \u001b[38;5;129;01mis\u001b[39;00m \u001b[38;5;129;01mnot\u001b[39;00m \u001b[38;5;28;01mNone\u001b[39;00m:\n\u001b[0;32m-> 1953\u001b[0m     \u001b[38;5;28;01mraise\u001b[39;00m child_exception_type(errno_num, err_msg, err_filename)\n\u001b[1;32m   1954\u001b[0m \u001b[38;5;28;01melse\u001b[39;00m:\n\u001b[1;32m   1955\u001b[0m     \u001b[38;5;28;01mraise\u001b[39;00m child_exception_type(errno_num, err_msg)\n",
      "\u001b[0;31mFileNotFoundError\u001b[0m: [Errno 2] No such file or directory: 'ffprobe'"
     ]
    }
   ],
   "source": [
    "from pydub import AudioSegment\n",
    "import os\n",
    "\n",
    "# Pfad zum Audio-Ordner\n",
    "mypath = \"./Audio-Ordner/\"\n",
    "# Ausgabe-Datei\n",
    "output_file = \"./final_Audio/combined.wav\"\n",
    "\n",
    "# Liste aller Wave-Dateien im Audio-Ordner\n",
    "input_files = [os.path.join(mypath, f) for f in os.listdir(mypath) if f.endswith('.wav')]\n",
    "\n",
    "# Lade die Wave-Dateien und kombiniere sie\n",
    "combined = None\n",
    "for input_file in input_files:\n",
    "    sound = AudioSegment.from_wav(input_file)\n",
    "    if combined is None:\n",
    "        combined = sound\n",
    "    else:\n",
    "        combined += sound\n",
    "\n",
    "# Speichere die kombinierte Datei\n",
    "combined.export(output_file, format=\"wav\")\n",
    "\n",
    "print(\"Wave-Dateien wurden kombiniert und gespeichert als:\", output_file)\n"
   ]
  },
  {
   "cell_type": "code",
   "execution_count": null,
   "id": "af214d1c-3c68-41b1-b5e9-ba41cc349ea4",
   "metadata": {},
   "outputs": [],
   "source": []
  },
  {
   "cell_type": "code",
   "execution_count": 18,
   "id": "1bb6c549-f201-423e-baa2-1704ddb32f65",
   "metadata": {},
   "outputs": [
    {
     "ename": "Error",
     "evalue": "unknown format: 3",
     "output_type": "error",
     "traceback": [
      "\u001b[0;31m---------------------------------------------------------------------------\u001b[0m",
      "\u001b[0;31mError\u001b[0m                                     Traceback (most recent call last)",
      "Cell \u001b[0;32mIn[18], line 17\u001b[0m\n\u001b[1;32m     15\u001b[0m input_files \u001b[38;5;241m=\u001b[39m [join(mypath,f) \u001b[38;5;28;01mfor\u001b[39;00m f \u001b[38;5;129;01min\u001b[39;00m listdir(mypath) \u001b[38;5;28;01mif\u001b[39;00m isfile(join(mypath, f))]\n\u001b[1;32m     16\u001b[0m output_file \u001b[38;5;241m=\u001b[39m \u001b[38;5;124m\"\u001b[39m\u001b[38;5;124m./final_Audio/combined.wav\u001b[39m\u001b[38;5;124m\"\u001b[39m\n\u001b[0;32m---> 17\u001b[0m \u001b[43mcombine_wave_files\u001b[49m\u001b[43m(\u001b[49m\u001b[43moutput_file\u001b[49m\u001b[43m,\u001b[49m\u001b[43m \u001b[49m\u001b[43minput_files\u001b[49m\u001b[43m)\u001b[49m\n\u001b[1;32m     18\u001b[0m input_files\n",
      "Cell \u001b[0;32mIn[18], line 3\u001b[0m, in \u001b[0;36mcombine_wave_files\u001b[0;34m(output_file, input_file)\u001b[0m\n\u001b[1;32m      1\u001b[0m \u001b[38;5;28;01mdef\u001b[39;00m \u001b[38;5;21mcombine_wave_files\u001b[39m(output_file, input_file):\n\u001b[0;32m----> 3\u001b[0m     \u001b[38;5;28;01mwith\u001b[39;00m \u001b[43mwave\u001b[49m\u001b[38;5;241;43m.\u001b[39;49m\u001b[43mopen\u001b[49m\u001b[43m(\u001b[49m\u001b[43minput_file\u001b[49m\u001b[43m[\u001b[49m\u001b[38;5;241;43m0\u001b[39;49m\u001b[43m]\u001b[49m\u001b[43m,\u001b[49m\u001b[43m \u001b[49m\u001b[38;5;124;43m'\u001b[39;49m\u001b[38;5;124;43mrb\u001b[39;49m\u001b[38;5;124;43m'\u001b[39;49m\u001b[43m)\u001b[49m \u001b[38;5;28;01mas\u001b[39;00m wave_file:\n\u001b[1;32m      4\u001b[0m         params \u001b[38;5;241m=\u001b[39m wave_file\u001b[38;5;241m.\u001b[39mgetparams()\n\u001b[1;32m      6\u001b[0m     \u001b[38;5;28;01mwith\u001b[39;00m wave\u001b[38;5;241m.\u001b[39mopen(output_file[\u001b[38;5;241m0\u001b[39m], \u001b[38;5;124m'\u001b[39m\u001b[38;5;124mwb\u001b[39m\u001b[38;5;124m'\u001b[39m) \u001b[38;5;28;01mas\u001b[39;00m output:\n",
      "File \u001b[0;32m~/anaconda3/envs/py311/lib/python3.11/wave.py:631\u001b[0m, in \u001b[0;36mopen\u001b[0;34m(f, mode)\u001b[0m\n\u001b[1;32m    629\u001b[0m         mode \u001b[38;5;241m=\u001b[39m \u001b[38;5;124m'\u001b[39m\u001b[38;5;124mrb\u001b[39m\u001b[38;5;124m'\u001b[39m\n\u001b[1;32m    630\u001b[0m \u001b[38;5;28;01mif\u001b[39;00m mode \u001b[38;5;129;01min\u001b[39;00m (\u001b[38;5;124m'\u001b[39m\u001b[38;5;124mr\u001b[39m\u001b[38;5;124m'\u001b[39m, \u001b[38;5;124m'\u001b[39m\u001b[38;5;124mrb\u001b[39m\u001b[38;5;124m'\u001b[39m):\n\u001b[0;32m--> 631\u001b[0m     \u001b[38;5;28;01mreturn\u001b[39;00m \u001b[43mWave_read\u001b[49m\u001b[43m(\u001b[49m\u001b[43mf\u001b[49m\u001b[43m)\u001b[49m\n\u001b[1;32m    632\u001b[0m \u001b[38;5;28;01melif\u001b[39;00m mode \u001b[38;5;129;01min\u001b[39;00m (\u001b[38;5;124m'\u001b[39m\u001b[38;5;124mw\u001b[39m\u001b[38;5;124m'\u001b[39m, \u001b[38;5;124m'\u001b[39m\u001b[38;5;124mwb\u001b[39m\u001b[38;5;124m'\u001b[39m):\n\u001b[1;32m    633\u001b[0m     \u001b[38;5;28;01mreturn\u001b[39;00m Wave_write(f)\n",
      "File \u001b[0;32m~/anaconda3/envs/py311/lib/python3.11/wave.py:283\u001b[0m, in \u001b[0;36mWave_read.__init__\u001b[0;34m(self, f)\u001b[0m\n\u001b[1;32m    281\u001b[0m \u001b[38;5;66;03m# else, assume it is an open file object already\u001b[39;00m\n\u001b[1;32m    282\u001b[0m \u001b[38;5;28;01mtry\u001b[39;00m:\n\u001b[0;32m--> 283\u001b[0m     \u001b[38;5;28;43mself\u001b[39;49m\u001b[38;5;241;43m.\u001b[39;49m\u001b[43minitfp\u001b[49m\u001b[43m(\u001b[49m\u001b[43mf\u001b[49m\u001b[43m)\u001b[49m\n\u001b[1;32m    284\u001b[0m \u001b[38;5;28;01mexcept\u001b[39;00m:\n\u001b[1;32m    285\u001b[0m     \u001b[38;5;28;01mif\u001b[39;00m \u001b[38;5;28mself\u001b[39m\u001b[38;5;241m.\u001b[39m_i_opened_the_file:\n",
      "File \u001b[0;32m~/anaconda3/envs/py311/lib/python3.11/wave.py:263\u001b[0m, in \u001b[0;36mWave_read.initfp\u001b[0;34m(self, file)\u001b[0m\n\u001b[1;32m    261\u001b[0m chunkname \u001b[38;5;241m=\u001b[39m chunk\u001b[38;5;241m.\u001b[39mgetname()\n\u001b[1;32m    262\u001b[0m \u001b[38;5;28;01mif\u001b[39;00m chunkname \u001b[38;5;241m==\u001b[39m \u001b[38;5;124mb\u001b[39m\u001b[38;5;124m'\u001b[39m\u001b[38;5;124mfmt \u001b[39m\u001b[38;5;124m'\u001b[39m:\n\u001b[0;32m--> 263\u001b[0m     \u001b[38;5;28;43mself\u001b[39;49m\u001b[38;5;241;43m.\u001b[39;49m\u001b[43m_read_fmt_chunk\u001b[49m\u001b[43m(\u001b[49m\u001b[43mchunk\u001b[49m\u001b[43m)\u001b[49m\n\u001b[1;32m    264\u001b[0m     \u001b[38;5;28mself\u001b[39m\u001b[38;5;241m.\u001b[39m_fmt_chunk_read \u001b[38;5;241m=\u001b[39m \u001b[38;5;241m1\u001b[39m\n\u001b[1;32m    265\u001b[0m \u001b[38;5;28;01melif\u001b[39;00m chunkname \u001b[38;5;241m==\u001b[39m \u001b[38;5;124mb\u001b[39m\u001b[38;5;124m'\u001b[39m\u001b[38;5;124mdata\u001b[39m\u001b[38;5;124m'\u001b[39m:\n",
      "File \u001b[0;32m~/anaconda3/envs/py311/lib/python3.11/wave.py:388\u001b[0m, in \u001b[0;36mWave_read._read_fmt_chunk\u001b[0;34m(self, chunk)\u001b[0m\n\u001b[1;32m    386\u001b[0m         \u001b[38;5;28;01mraise\u001b[39;00m Error(\u001b[38;5;124m'\u001b[39m\u001b[38;5;124mbad sample width\u001b[39m\u001b[38;5;124m'\u001b[39m)\n\u001b[1;32m    387\u001b[0m \u001b[38;5;28;01melse\u001b[39;00m:\n\u001b[0;32m--> 388\u001b[0m     \u001b[38;5;28;01mraise\u001b[39;00m Error(\u001b[38;5;124m'\u001b[39m\u001b[38;5;124munknown format: \u001b[39m\u001b[38;5;132;01m%r\u001b[39;00m\u001b[38;5;124m'\u001b[39m \u001b[38;5;241m%\u001b[39m (wFormatTag,))\n\u001b[1;32m    389\u001b[0m \u001b[38;5;28;01mif\u001b[39;00m \u001b[38;5;129;01mnot\u001b[39;00m \u001b[38;5;28mself\u001b[39m\u001b[38;5;241m.\u001b[39m_nchannels:\n\u001b[1;32m    390\u001b[0m     \u001b[38;5;28;01mraise\u001b[39;00m Error(\u001b[38;5;124m'\u001b[39m\u001b[38;5;124mbad # of channels\u001b[39m\u001b[38;5;124m'\u001b[39m)\n",
      "\u001b[0;31mError\u001b[0m: unknown format: 3"
     ]
    }
   ],
   "source": [
    "def combine_wave_files(output_file, input_file):\n",
    "    \n",
    "    with wave.open(input_file[0], 'rb') as wave_file:\n",
    "        params = wave_file.getparams()\n",
    "\n",
    "    with wave.open(output_file[0], 'wb') as output:\n",
    "        output.setparams(params)\n",
    "\n",
    "    for file in input_files:\n",
    "        with wave.open(file, 'rb') as wave_file:\n",
    "            data = wave_file.readframes(wave_file.getnframes())\n",
    "            output.writeframes(data)\n",
    "\n",
    "mypath = \"./Audio-Ordner/\"\n",
    "input_files = [join(mypath,f) for f in listdir(mypath) if isfile(join(mypath, f))]\n",
    "output_file = \"./final_Audio/combined.wav\"\n",
    "combine_wave_files(output_file, input_files)\n",
    "input_files"
   ]
  },
  {
   "cell_type": "code",
   "execution_count": null,
   "id": "17d78296-e7aa-44bd-9f0e-0d50d6c2ed50",
   "metadata": {},
   "outputs": [],
   "source": [
    "display(Audio(output_file, autoplay=False))"
   ]
  },
  {
   "cell_type": "code",
   "execution_count": null,
   "id": "c92f952d-9b59-4504-94e8-53b8b212b5bc",
   "metadata": {},
   "outputs": [],
   "source": []
  },
  {
   "cell_type": "code",
   "execution_count": null,
   "id": "6f10c42e-63e6-41f9-8365-39d21f64dafa",
   "metadata": {},
   "outputs": [],
   "source": [
    "# ======================================================================"
   ]
  },
  {
   "cell_type": "code",
   "execution_count": null,
   "id": "4031fe45-ed44-4d56-a373-ac165f02109a",
   "metadata": {},
   "outputs": [],
   "source": []
  },
  {
   "cell_type": "code",
   "execution_count": null,
   "id": "2f5a3aa9-a426-429d-b6a8-322d7bc564f5",
   "metadata": {},
   "outputs": [],
   "source": []
  },
  {
   "cell_type": "code",
   "execution_count": null,
   "id": "8f1c81e2-b2f7-4263-929e-a3ec57d572cf",
   "metadata": {},
   "outputs": [],
   "source": []
  },
  {
   "cell_type": "code",
   "execution_count": null,
   "id": "53bc73af-d3f9-41d9-bb17-598e31376cdc",
   "metadata": {},
   "outputs": [],
   "source": []
  },
  {
   "cell_type": "code",
   "execution_count": null,
   "id": "682715ac-e240-4719-9027-aa48cb9642c9",
   "metadata": {},
   "outputs": [],
   "source": [
    "for idx, phrases in enumerate(poem):\n",
    "    inputs = processor(phrases, voice_preset=voice_preset)\n",
    "    audio_array = model.generate(**inputs, do_sample=True).to(device) \n",
    "    audio_array = audio_array.cpu().numpy().squeeze()\n",
    "    \n",
    "    sample_rate = model.generation_config.sample_rate\n",
    "    version_3_path = f\"./Audio-Ordner/Version_03_{idx}.wav\"\n",
    "    write_wav(version_3_path, sample_rate, audio_array)\n",
    "\n",
    "    \n",
    "    display(Audio(version_3_path, autoplay=False))\n"
   ]
  },
  {
   "cell_type": "code",
   "execution_count": null,
   "id": "ae5099a6-9660-4106-be5f-0bd086426bff",
   "metadata": {},
   "outputs": [],
   "source": []
  },
  {
   "cell_type": "code",
   "execution_count": null,
   "id": "dbcd5bbf-84de-4240-9396-0a606b56148d",
   "metadata": {},
   "outputs": [],
   "source": []
  },
  {
   "cell_type": "code",
   "execution_count": null,
   "id": "761ab829-c52f-4166-b822-432e9dc8dcca",
   "metadata": {},
   "outputs": [],
   "source": []
  },
  {
   "cell_type": "code",
   "execution_count": null,
   "id": "85fe9d80-d121-4242-a6bc-562798ce0b65",
   "metadata": {},
   "outputs": [],
   "source": []
  },
  {
   "cell_type": "code",
   "execution_count": null,
   "id": "ad03702f-35e7-4bd1-af94-a35dc0d3146e",
   "metadata": {},
   "outputs": [],
   "source": []
  },
  {
   "cell_type": "code",
   "execution_count": null,
   "id": "eea13561-f1e5-4dcd-8f4d-6c8e717cbd0a",
   "metadata": {},
   "outputs": [],
   "source": []
  },
  {
   "cell_type": "code",
   "execution_count": null,
   "id": "74f11a5d-9d8f-4af6-b645-c924c99a8e55",
   "metadata": {},
   "outputs": [],
   "source": []
  },
  {
   "cell_type": "code",
   "execution_count": null,
   "id": "584d4072-16b9-458b-b9fd-351aa7130168",
   "metadata": {},
   "outputs": [],
   "source": []
  },
  {
   "cell_type": "code",
   "execution_count": null,
   "id": "a249e5c1-f757-4a59-8bc0-c8db60b09b8e",
   "metadata": {},
   "outputs": [],
   "source": [
    "'''\n",
    "silence = np.zeros(int(0.25)*sample_rate)\n",
    "pieces = []\n",
    "\n",
    "for sentences in poetry:\n",
    "    audio_array = processor(sentences, history_prompt=voice_preset)\n",
    "    pieces += [audio_array, silence.copy()]\n",
    "'''\n"
   ]
  },
  {
   "cell_type": "code",
   "execution_count": null,
   "id": "69c25deb-51c3-4450-8895-27bfa0f41bcb",
   "metadata": {},
   "outputs": [],
   "source": []
  },
  {
   "cell_type": "code",
   "execution_count": null,
   "id": "b92becef-49d7-4fdc-a9c2-c6b9a1839c7b",
   "metadata": {},
   "outputs": [],
   "source": []
  },
  {
   "cell_type": "code",
   "execution_count": null,
   "id": "28c8c01a-3615-40a8-b834-19bef95bdc7b",
   "metadata": {},
   "outputs": [],
   "source": []
  },
  {
   "cell_type": "code",
   "execution_count": null,
   "id": "4afe436a-c731-4a38-bf75-72ff07c1c207",
   "metadata": {},
   "outputs": [],
   "source": []
  },
  {
   "cell_type": "code",
   "execution_count": null,
   "id": "e3799915-4243-4522-8afc-538ac96fa0f6",
   "metadata": {},
   "outputs": [],
   "source": [
    "# =============================================================================="
   ]
  },
  {
   "cell_type": "code",
   "execution_count": null,
   "id": "960e50aa-6511-4120-811d-5841088ba935",
   "metadata": {},
   "outputs": [],
   "source": []
  },
  {
   "cell_type": "code",
   "execution_count": null,
   "id": "3213aba9-0a23-4c29-96e3-a04ed7e26407",
   "metadata": {},
   "outputs": [],
   "source": []
  },
  {
   "cell_type": "code",
   "execution_count": null,
   "id": "7936cd17-2913-4a9f-899b-dde78365bcd2",
   "metadata": {},
   "outputs": [],
   "source": []
  },
  {
   "cell_type": "code",
   "execution_count": null,
   "id": "e597087e-ae4e-4bc5-8ea3-d811d71303d0",
   "metadata": {},
   "outputs": [],
   "source": [
    "audios_list = []\n",
    "for paragraph in p:\n",
    "    inputs = processor(paragraph, voice_preset=voice_preset, return_tensors=\"pt\", return_token_type_ids=True, return_attention_mask=True).to(device) # return_tensors=\"np\"\n",
    "    with torch.no_grad():\n",
    "        output = model(**inputs).waveform\n",
    "    audios_list.append(output.cpu())\n",
    "audios = torch.cat(audios_list, dim=1)\n",
    "scipy.io.wavfile.write(path, rate=model.generation_config.sample_rate, data=audios.float.numpy().T)\n",
    "display(Audio(path, autoplay=True))"
   ]
  },
  {
   "cell_type": "code",
   "execution_count": null,
   "id": "a004a739-713d-499c-b6ba-795c71cf0355",
   "metadata": {},
   "outputs": [],
   "source": []
  },
  {
   "cell_type": "code",
   "execution_count": null,
   "id": "d9e81d50-0bfa-4c22-b811-8d331f29b760",
   "metadata": {},
   "outputs": [],
   "source": []
  },
  {
   "cell_type": "code",
   "execution_count": null,
   "id": "d5291b0c-7099-4803-8584-aac527ec07ae",
   "metadata": {},
   "outputs": [],
   "source": [
    "inputs['input_ids']"
   ]
  },
  {
   "cell_type": "code",
   "execution_count": null,
   "id": "b305647a-b3cc-4903-9805-fe29ccdf54a1",
   "metadata": {},
   "outputs": [],
   "source": [
    "tokenizer = AutoTokenizer.from_pretrained(\"facebook/mms-tts-deu\")\n",
    "inputs_facebook = tokenizer(gedicht[0:5])\n",
    "inputs_facebook"
   ]
  },
  {
   "cell_type": "code",
   "execution_count": null,
   "id": "e5bc8aec-83fd-41f0-aa7c-15a383086850",
   "metadata": {},
   "outputs": [],
   "source": [
    "inputs_facebook['input_ids']"
   ]
  },
  {
   "cell_type": "code",
   "execution_count": null,
   "id": "c112bbb5-3011-4e39-8eaa-d55309f99545",
   "metadata": {},
   "outputs": [],
   "source": [
    "# tokenizer.decode()\n",
    "tokenizer.decode(inputs_facebook['input_ids'])"
   ]
  },
  {
   "cell_type": "code",
   "execution_count": null,
   "id": "e449e70b-81a8-4bbc-bbdb-56518449d28a",
   "metadata": {},
   "outputs": [],
   "source": []
  },
  {
   "cell_type": "code",
   "execution_count": null,
   "id": "56b4e0ce-d57c-44b1-a64b-bdeb487d4334",
   "metadata": {},
   "outputs": [],
   "source": []
  },
  {
   "cell_type": "code",
   "execution_count": null,
   "id": "9dcdbfd1-7366-4036-9b00-d9147a1bfa37",
   "metadata": {},
   "outputs": [],
   "source": []
  },
  {
   "cell_type": "code",
   "execution_count": null,
   "id": "8529bc02-c054-4789-b2d8-3f25f6bccb80",
   "metadata": {},
   "outputs": [],
   "source": []
  },
  {
   "cell_type": "code",
   "execution_count": null,
   "id": "0b9e4563-ee24-40ec-9edf-c4b0b757a337",
   "metadata": {},
   "outputs": [],
   "source": [
    "audio_array = model.generate(**inputs, do_sample=True).to(device)\n",
    "audio_array = audio_array.cpu().numpy().squeeze()"
   ]
  },
  {
   "cell_type": "code",
   "execution_count": null,
   "id": "8eb7c36f-4c87-423c-97d2-ed94cd795baa",
   "metadata": {},
   "outputs": [],
   "source": [
    "# audio_array = audio_array.squeeze()\n",
    "sample_rate = model.generation_config.sample_rate"
   ]
  },
  {
   "cell_type": "code",
   "execution_count": null,
   "id": "f0142f94-c29b-4066-a2d8-18e4d2333baa",
   "metadata": {},
   "outputs": [],
   "source": [
    "version_2_path = \"Version_02_gedicht.wav\"\n",
    "write_wav(version_2_path, sample_rate, audio_array)\n",
    "# scipy.io.wavfile.write(version_2_path, rate=24000, data=audio_array)\n",
    "display(Audio(version_2_path, autoplay=True))"
   ]
  },
  {
   "cell_type": "code",
   "execution_count": null,
   "id": "f2c90b94-2560-4c81-8d90-7148c40146a6",
   "metadata": {},
   "outputs": [],
   "source": [
    "# Bark hat auch eine generate Funktion\n",
    "# https://stackoverflow.com/questions/76266716/text-to-speech-convert-to-wav-in-python"
   ]
  },
  {
   "cell_type": "code",
   "execution_count": null,
   "id": "4e70a219-0151-4ee2-92dd-89680570ea87",
   "metadata": {},
   "outputs": [],
   "source": []
  }
 ],
 "metadata": {
  "kernelspec": {
   "display_name": "Python 3 (ipykernel)",
   "language": "python",
   "name": "python3"
  },
  "language_info": {
   "codemirror_mode": {
    "name": "ipython",
    "version": 3
   },
   "file_extension": ".py",
   "mimetype": "text/x-python",
   "name": "python",
   "nbconvert_exporter": "python",
   "pygments_lexer": "ipython3",
   "version": "3.12.0"
  }
 },
 "nbformat": 4,
 "nbformat_minor": 5
}
